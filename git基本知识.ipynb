{
 "cells": [
  {
   "cell_type": "markdown",
   "metadata": {},
   "source": [
    "### 1、创建版本库(init)"
   ]
  },
  {
   "cell_type": "markdown",
   "metadata": {},
   "source": [
    "First.在桌面创建了一个叫gitTUT的文件夹"
   ]
  },
  {
   "cell_type": "markdown",
   "metadata": {},
   "source": [
    "Second.打开git bash输入如下代码进入gitTUT文件夹"
   ]
  },
  {
   "cell_type": "raw",
   "metadata": {},
   "source": [
    "cd ~/Desktop/gitTUT"
   ]
  },
  {
   "cell_type": "markdown",
   "metadata": {},
   "source": [
    "Third.在git中添加用户名use.name和用户email user.email:执行如下命令"
   ]
  },
  {
   "cell_type": "raw",
   "metadata": {},
   "source": [
    "$ git config --global user.name \"meiyuhang\"\n",
    "$ git config --global user.email \"1263598058@qq.com\""
   ]
  },
  {
   "cell_type": "markdown",
   "metadata": {},
   "source": [
    "Fourth.在gitTUT建立git的管理文件：执行如下代码"
   ]
  },
  {
   "cell_type": "raw",
   "metadata": {},
   "source": [
    "$ git init "
   ]
  },
  {
   "cell_type": "markdown",
   "metadata": {},
   "source": [
    "ok / 完成了"
   ]
  },
  {
   "cell_type": "markdown",
   "metadata": {},
   "source": [
    "### 2、修改文件&提交文件(完整例子)"
   ]
  },
  {
   "cell_type": "raw",
   "metadata": {},
   "source": [
    "首先打开readme.txt文件对文件内容进行修改\n",
    "然后提交：\n",
    "1、使用命令：git add readme.txt(将文件从工作区提交到版本库(.git文件)中的暂存区(stage))\n",
    "2、使用命令：git commit -m \"append GPL\"(将文件从暂存区提交到某个分支中(master))，弹出以下消息   append GPL记录了修改操作的具体内容是什么(自己写)\n",
    "[master 1094adb] append GPL          #1094adb为版本号\n",
    " 1 file changed, 1 insertion(+), 1 deletion(-)"
   ]
  },
  {
   "cell_type": "markdown",
   "metadata": {},
   "source": [
    "### 3、版本回退（找回之前的版本）"
   ]
  },
  {
   "cell_type": "markdown",
   "metadata": {},
   "source": [
    "##### 1、假设有三个版本"
   ]
  },
  {
   "cell_type": "markdown",
   "metadata": {},
   "source": [
    "版本一：wrote a readme file (readme.txt文件的内容如下,刚创建时)"
   ]
  },
  {
   "cell_type": "raw",
   "metadata": {},
   "source": [
    "Git is a version control system.\n",
    "Git is free software."
   ]
  },
  {
   "cell_type": "markdown",
   "metadata": {},
   "source": [
    "版本二：add distributed (readme.txt文件内容如下)"
   ]
  },
  {
   "cell_type": "markdown",
   "metadata": {},
   "source": [
    "Git is a distributed version control system.\n",
    "Git is free software."
   ]
  },
  {
   "cell_type": "markdown",
   "metadata": {},
   "source": [
    "版本三：append GPL(readme.txt文件内容如下)"
   ]
  },
  {
   "cell_type": "raw",
   "metadata": {},
   "source": [
    "Git is a distributed version control system.\n",
    "Git is free software distributed under the GPL."
   ]
  },
  {
   "cell_type": "markdown",
   "metadata": {},
   "source": [
    "##### 2、使用 git log命令查看历史记录"
   ]
  },
  {
   "cell_type": "raw",
   "metadata": {},
   "source": [
    "$ git log\n",
    "commit 1094adb7b9b3807259d8cb349e7df1d4d6477073 (HEAD -> master)\n",
    "Author: Michael Liao <askxuefeng@gmail.com>\n",
    "Date:   Fri May 18 21:06:15 2018 +0800\n",
    "\n",
    "    append GPL\n",
    "\n",
    "commit e475afc93c209a690c39c13a46716e8fa000c366\n",
    "Author: Michael Liao <askxuefeng@gmail.com>\n",
    "Date:   Fri May 18 21:03:36 2018 +0800\n",
    "\n",
    "    add distributed\n",
    "\n",
    "commit eaadf4e385e865d25c48e7ca9c8395c3f7dfaef0\n",
    "Author: Michael Liao <askxuefeng@gmail.com>\n",
    "Date:   Fri May 18 20:59:18 2018 +0800\n",
    "\n",
    "    wrote a readme file"
   ]
  },
  {
   "cell_type": "markdown",
   "metadata": {},
   "source": [
    "简化的git log:git log --pretty=oneline"
   ]
  },
  {
   "cell_type": "raw",
   "metadata": {},
   "source": [
    "$ git log --pretty=oneline\n",
    "1094adb7b9b3807259d8cb349e7df1d4d6477073 (HEAD -> master) append GPL\n",
    "e475afc93c209a690c39c13a46716e8fa000c366 add distributed\n",
    "eaadf4e385e865d25c48e7ca9c8395c3f7dfaef0 wrote a readme file"
   ]
  },
  {
   "cell_type": "markdown",
   "metadata": {},
   "source": [
    "前面一大串类似1094adb...的是commit id（版本号）"
   ]
  },
  {
   "cell_type": "markdown",
   "metadata": {},
   "source": [
    "##### 3、版本回退（本例中初始版本为：版本三）"
   ]
  },
  {
   "cell_type": "markdown",
   "metadata": {},
   "source": [
    "1、命令 git reset --hard HEAD^ (表示回退到上一个版本)"
   ]
  },
  {
   "cell_type": "raw",
   "metadata": {},
   "source": [
    "注：HEAD^^表示回到上上个版本， HEAD~100表示回到上100个版本"
   ]
  },
  {
   "cell_type": "raw",
   "metadata": {},
   "source": [
    "$ git reset --hard HEAD^\n",
    "HEAD is now at e475afc add distributed  //后面表示回退后的当前版本"
   ]
  },
  {
   "cell_type": "markdown",
   "metadata": {},
   "source": [
    "2、命令 cat readme.txt(查看当前readme.txt文件的内容)"
   ]
  },
  {
   "cell_type": "raw",
   "metadata": {},
   "source": [
    "$ cat readme.txt\n",
    "Git is a distributed version control system.\n",
    "Git is free software.    //版本二"
   ]
  },
  {
   "cell_type": "markdown",
   "metadata": {},
   "source": [
    "3、再用git log查看当前版本库的状态："
   ]
  },
  {
   "cell_type": "raw",
   "metadata": {},
   "source": [
    "$ git log\n",
    "commit e475afc93c209a690c39c13a46716e8fa000c366 (HEAD -> master)\n",
    "Author: Michael Liao <askxuefeng@gmail.com>\n",
    "Date:   Fri May 18 21:03:36 2018 +0800\n",
    "\n",
    "    add distributed\n",
    "\n",
    "commit eaadf4e385e865d25c48e7ca9c8395c3f7dfaef0\n",
    "Author: Michael Liao <askxuefeng@gmail.com>\n",
    "Date:   Fri May 18 20:59:18 2018 +0800\n",
    "\n",
    "    wrote a readme file    //没有了版本三的信息"
   ]
  },
  {
   "cell_type": "markdown",
   "metadata": {},
   "source": [
    "4、使用命令 git reset --hard 1094a仍然可以回到版本三（1094a为版本三的版本号）"
   ]
  },
  {
   "cell_type": "raw",
   "metadata": {},
   "source": [
    "$ git reset --hard 1094a\n",
    "HEAD is now at 83b0afe append GPL"
   ]
  },
  {
   "cell_type": "markdown",
   "metadata": {},
   "source": [
    "5、git reflog 记录每一次命令的信息(找不到版本号时可以使用)"
   ]
  },
  {
   "cell_type": "raw",
   "metadata": {},
   "source": [
    "$ git reflog\n",
    "e475afc HEAD@{1}: reset: moving to HEAD^\n",
    "1094adb (HEAD -> master) HEAD@{2}: commit: append GPL\n",
    "e475afc HEAD@{3}: commit: add distributed\n",
    "eaadf4e HEAD@{4}: commit (initial): wrote a readme file"
   ]
  },
  {
   "cell_type": "markdown",
   "metadata": {},
   "source": [
    "### 4、撤销修改"
   ]
  },
  {
   "cell_type": "markdown",
   "metadata": {},
   "source": [
    "命令：git checkout -- file"
   ]
  },
  {
   "cell_type": "raw",
   "metadata": {},
   "source": [
    "$ git checkout -- readme.txt"
   ]
  },
  {
   "cell_type": "markdown",
   "metadata": {},
   "source": [
    "命令git checkout -- readme.txt意思就是，把readme.txt文件在工作区的修改全部撤销，这里有两种情况:"
   ]
  },
  {
   "cell_type": "markdown",
   "metadata": {},
   "source": [
    "一种是readme.txt自修改后还没有被放到暂存区，现在，撤销修改就回到和版本库一模一样的状态；"
   ]
  },
  {
   "cell_type": "markdown",
   "metadata": {},
   "source": [
    "一种是readme.txt已经添加到暂存区后，又作了修改，现在，撤销修改就回到添加到暂存区后的状态。"
   ]
  },
  {
   "cell_type": "markdown",
   "metadata": {},
   "source": [
    "总之，就是让这个文件回到最近一次git commit或git add时的状态。"
   ]
  },
  {
   "cell_type": "markdown",
   "metadata": {},
   "source": [
    "### 5、删除文件"
   ]
  },
  {
   "cell_type": "raw",
   "metadata": {},
   "source": [
    "两种方法：\n",
    "1、直接在文件夹中删除（.git的版本库中还存在，可以利用$ git checkout -- file修复）\n",
    "2、rm命令（$ rm file  效果跟直接在文件夹删除一样）\n",
    "3、从版本库中删除该文件（先 $ git rm file  ，再 $ git commit -m \"remove file\""
   ]
  },
  {
   "cell_type": "raw",
   "metadata": {},
   "source": [
    "方法1和方法2可以用命令 $ git checkout -- file 修复"
   ]
  },
  {
   "cell_type": "markdown",
   "metadata": {},
   "source": [
    "### 6、添加GitHub远程库"
   ]
  },
  {
   "cell_type": "raw",
   "metadata": {},
   "source": [
    "关联一个远程库: git remote add warehouse git@server-name:myh233/gitTUT.git  //warehouse为远程库的名字，可以修改\n",
    "关联后，使用命令git push -u warehouse master 第一次推送master分支的所有内容\n",
    "之后，每次本地提交完成后使用git push warehouse master推送最新修改"
   ]
  },
  {
   "cell_type": "raw",
   "metadata": {},
   "source": [
    "readme 仓库  的名字 ：origin\n",
    "gitTUT 仓库  的名字 ：warehouse\n"
   ]
  }
 ],
 "metadata": {
  "kernelspec": {
   "display_name": "Python 3",
   "language": "python",
   "name": "python3"
  },
  "language_info": {
   "codemirror_mode": {
    "name": "ipython",
    "version": 3
   },
   "file_extension": ".py",
   "mimetype": "text/x-python",
   "name": "python",
   "nbconvert_exporter": "python",
   "pygments_lexer": "ipython3",
   "version": "3.7.3"
  }
 },
 "nbformat": 4,
 "nbformat_minor": 2
}
