{
 "cells": [
  {
   "cell_type": "code",
   "execution_count": 1,
   "metadata": {},
   "outputs": [
    {
     "name": "stdout",
     "output_type": "stream",
     "text": [
      "pygame 1.9.5\n",
      "Hello from the pygame community. https://www.pygame.org/contribute.html\n"
     ]
    },
    {
     "ename": "SystemExit",
     "evalue": "",
     "output_type": "error",
     "traceback": [
      "An exception has occurred, use %tb to see the full traceback.\n",
      "\u001b[1;31mSystemExit\u001b[0m\n"
     ]
    },
    {
     "name": "stderr",
     "output_type": "stream",
     "text": [
      "c:\\users\\梅宇航\\appdata\\local\\programs\\python\\python37\\lib\\site-packages\\IPython\\core\\interactiveshell.py:3304: UserWarning: To exit: use 'exit', 'quit', or Ctrl-D.\n",
      "  warn(\"To exit: use 'exit', 'quit', or Ctrl-D.\", stacklevel=1)\n"
     ]
    }
   ],
   "source": [
    "import pygame as pg\n",
    "from pygame.locals import *    #将pygame所有常量导入，如后面的QUIT\n",
    "from time import sleep\n",
    "import sys\n",
    "\n",
    "pg.init()                          #初始化，如果没有的话字体会报错等等\n",
    "scr=pg.display.set_mode((600,550))   #设置屏幕大小\n",
    "pg.display.set_caption((\"打乒乓球\"))   #设置屏幕标题\n",
    "pp=255,140,0                     #red是一个元组，表示乒乓球的RGB颜色\n",
    "green=0,255,0\n",
    "white=255,255,255\n",
    "cs=225,121,21               #橙色\n",
    "\n",
    "x=120\n",
    "y=120\n",
    "vx=1\n",
    "vy=1\n",
    "a=200\n",
    "\n",
    "\n",
    "zt1=pg.font.SysFont('kaiti',24)\n",
    "zt2=pg.font.SysFont('kaiti',20)\n",
    "\n",
    "def printtext(font,text,x,y,color):\n",
    "   img=font.render(text,True,color)\n",
    "   scr.blit(img,(x,y))\n",
    "\n",
    "c=0   #c是加速器，如果接了10次，那么加速\n",
    "fs=0   #fs是分数，接到一次乒乓球就加分\n",
    "k=1  #基础加分量\n",
    "\n",
    "while True:\n",
    "    scr.fill((199,21,133))\n",
    "    for eve in pg.event.get():\n",
    "        if eve.type == QUIT:    #点击左上角的×\n",
    "            sys.exit()         #如果无效，可以试试exit()函数\n",
    "    mx,my=pg.mouse.get_pos()     #获得鼠标的x，y坐标\n",
    "    a=mx   #鼠标x坐标就是乒乓板的坐标，因此移动鼠标乒乓板也移动\n",
    "    pg.draw.circle(scr,pp,(x,y),40,0)\n",
    "    pg.draw.rect(scr,green,(a,530,100,20),0)\n",
    "    x=x+vx\n",
    "    y=y+vy\n",
    "    if x>550 or x<40:\n",
    "        vx=-vx\n",
    "    if  y<40:\n",
    "        vy=-vy\n",
    "    if y>510 and abs(a-x+50)<50:\n",
    "        if vy>0:\n",
    "            vy=-vy\n",
    "        else:pass\n",
    "        c=c+1     #每接到3次后乒乓球加速\n",
    "        fs=fs+k    #加分\n",
    "        if c>=3:\n",
    "            c=0\n",
    "            k=k+k  #乒乓球加速后记分量双倍\n",
    "            if vx>0:  #加速\n",
    "                vx=vx+1\n",
    "            else:\n",
    "                vx=vx-1\n",
    "        else:pass\n",
    "    elif y>510 and abs(a-x+50)>50:\n",
    "        break\n",
    "    sleep(0.005)  #休眠一定时间，不然乒乓球速度依然很快\n",
    "    printtext(zt1,\"移动鼠标控制乒乓板左右移动\",20,30,white)\n",
    "    printtext(zt2,\"得分\",550,12,cs)\n",
    "    printtext(zt2,str(fs),560,32,cs)\n",
    "    pg.display.update()\n",
    "\n",
    "scr.fill((211,21,33))   #游戏结束后全屏改变颜色\n",
    "zt3=pg.font.SysFont('stkaiti',120)\n",
    "zt4=pg.font.SysFont('stkaiti',60)\n",
    "printtext(zt3,\"游戏结束\",60,120,white)\n",
    "printtext(zt4,'得分: '+str(fs),120,400,white)\n",
    "pg.display.update()"
   ]
  },
  {
   "cell_type": "code",
   "execution_count": null,
   "metadata": {},
   "outputs": [],
   "source": []
  }
 ],
 "metadata": {
  "kernelspec": {
   "display_name": "Python 3",
   "language": "python",
   "name": "python3"
  },
  "language_info": {
   "codemirror_mode": {
    "name": "ipython",
    "version": 3
   },
   "file_extension": ".py",
   "mimetype": "text/x-python",
   "name": "python",
   "nbconvert_exporter": "python",
   "pygments_lexer": "ipython3",
   "version": "3.7.3"
  }
 },
 "nbformat": 4,
 "nbformat_minor": 2
}
